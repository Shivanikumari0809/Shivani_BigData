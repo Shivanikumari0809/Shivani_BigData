{
  "nbformat": 4,
  "nbformat_minor": 0,
  "metadata": {
    "colab": {
      "provenance": [],
      "authorship_tag": "ABX9TyMVUNUuyU8cJqS/q4DS1WSg",
      "include_colab_link": true
    },
    "kernelspec": {
      "name": "python3",
      "display_name": "Python 3"
    },
    "language_info": {
      "name": "python"
    }
  },
  "cells": [
    {
      "cell_type": "markdown",
      "metadata": {
        "id": "view-in-github",
        "colab_type": "text"
      },
      "source": [
        "<a href=\"https://colab.research.google.com/github/Shivanikumari0809/Shivani_BigData/blob/main/assignment2_5-feb_202301060.ipynb\" target=\"_parent\"><img src=\"https://colab.research.google.com/assets/colab-badge.svg\" alt=\"Open In Colab\"/></a>"
      ]
    },
    {
      "cell_type": "code",
      "execution_count": 1,
      "metadata": {
        "colab": {
          "base_uri": "https://localhost:8080/"
        },
        "id": "50rFoa5Eybvp",
        "outputId": "544792e8-0381-4c55-a275-8fc5da79a16a"
      },
      "outputs": [
        {
          "output_type": "stream",
          "name": "stdout",
          "text": [
            "final array [5 4 6 3 2 1]\n"
          ]
        }
      ],
      "source": [
        "import numpy as np\n",
        "\n",
        "\n",
        "arr1 = np.array([1, 2, 3, 6, 4, 5])\n",
        "\n",
        "result = np.flip(arr1)\n",
        "\n",
        "\n",
        "print(\"final array\", str(result))\n"
      ]
    },
    {
      "cell_type": "code",
      "source": [
        "import numpy as np\n",
        "\n",
        "\n",
        "arr1 = np.array([[1, 2], [3, 4]])\n",
        "arr2 = np.array([[1, 2], [3, 4]])\n",
        "\n",
        "arr_equal = np.array_equal(arr1, arr2)\n",
        "\n",
        "if arr_equal:\n",
        "    print(\"Arrays are equal.\")\n",
        "else:\n",
        "    print(\"Arrays are not equal.\")"
      ],
      "metadata": {
        "colab": {
          "base_uri": "https://localhost:8080/"
        },
        "id": "5TbuqgzqM7ow",
        "outputId": "8a26ab8a-b02a-4688-a769-cec2c240e3cc"
      },
      "execution_count": 2,
      "outputs": [
        {
          "output_type": "stream",
          "name": "stdout",
          "text": [
            "Arrays are equal.\n"
          ]
        }
      ]
    },
    {
      "cell_type": "code",
      "source": [
        "import numpy as np\n",
        "\n",
        "x = np.array([1,2,3,4,5,1,2,1,1,1])\n",
        "\n",
        "counts = np.bincount(x)\n",
        "most_fre_value = counts.argmax()\n",
        "indices = np.where(x == most_fre_value)[0]\n",
        "\n",
        "print(f\"Most fre value: {most_frequent_value}\")\n",
        "print(f\"Indices: {indices}\")\n",
        "y = np.array([1, 1, 1, 2, 3, 4, 2, 4, 3, 3])\n",
        "\n",
        "counts = np.bincount(y)\n",
        "most_frequent_value = counts.argmax()\n",
        "indices = np.where(y == most_frequent_value)[0]\n",
        "\n",
        "print(f\"Most frequent value: {most_frequent_value}\")\n",
        "print(f\"Indices: {indices}\")"
      ],
      "metadata": {
        "colab": {
          "base_uri": "https://localhost:8080/"
        },
        "id": "SO5mHPBsNMdj",
        "outputId": "998623c5-f9e3-4948-e6a6-c6c40eaaa375"
      },
      "execution_count": 5,
      "outputs": [
        {
          "output_type": "stream",
          "name": "stdout",
          "text": [
            "Most fre value: 1\n",
            "Indices: [0 5 7 8 9]\n",
            "Most frequent value: 1\n",
            "Indices: [0 1 2]\n"
          ]
        }
      ]
    },
    {
      "cell_type": "code",
      "source": [
        "import numpy as np\n",
        "\n",
        "x = np.matrix('[4, 1, 9; 12, 3, 1; 4, 5, 6]')\n",
        "print(x)\n",
        "\n",
        "sum_matrix = np.sum(x)\n",
        "print(\"\\n the sum of matrix is\", sum_matrix)\n",
        "\n",
        "sum_row = x.sum(axis = 1)\n",
        "print(\"\\n the sum of all rows are:\", sum_row)\n",
        "\n",
        "sum_col = x.sum(axis = 0)\n",
        "print(\"\\n the sum of all columns are:\", sum_col)"
      ],
      "metadata": {
        "colab": {
          "base_uri": "https://localhost:8080/"
        },
        "id": "L0uuyT2tNly3",
        "outputId": "bf1491b6-3dd8-4872-85f0-d4e5990ab9e1"
      },
      "execution_count": 6,
      "outputs": [
        {
          "output_type": "stream",
          "name": "stdout",
          "text": [
            "[[ 4  1  9]\n",
            " [12  3  1]\n",
            " [ 4  5  6]]\n",
            "\n",
            " the sum of matrix is 45\n",
            "\n",
            " the sum of all rows are: [[14]\n",
            " [16]\n",
            " [15]]\n",
            "\n",
            " the sum of all columns are: [[20  9 16]]\n"
          ]
        }
      ]
    }
  ]
}