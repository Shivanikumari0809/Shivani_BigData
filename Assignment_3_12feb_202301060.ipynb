{
  "nbformat": 4,
  "nbformat_minor": 0,
  "metadata": {
    "colab": {
      "provenance": [],
      "authorship_tag": "ABX9TyMWllPvgePcRONkJk1pH5h1",
      "include_colab_link": true
    },
    "kernelspec": {
      "name": "python3",
      "display_name": "Python 3"
    },
    "language_info": {
      "name": "python"
    }
  },
  "cells": [
    {
      "cell_type": "markdown",
      "metadata": {
        "id": "view-in-github",
        "colab_type": "text"
      },
      "source": [
        "<a href=\"https://colab.research.google.com/github/Shivanikumari0809/Shivani_BigData/blob/main/Assignment_3_12feb_202301060.ipynb\" target=\"_parent\"><img src=\"https://colab.research.google.com/assets/colab-badge.svg\" alt=\"Open In Colab\"/></a>"
      ]
    },
    {
      "cell_type": "code",
      "execution_count": 1,
      "metadata": {
        "id": "zUdPNfUa9eSM",
        "colab": {
          "base_uri": "https://localhost:8080/"
        },
        "outputId": "d89f297d-18d8-4016-9cd3-5d48c62c80ee"
      },
      "outputs": [
        {
          "output_type": "stream",
          "name": "stdout",
          "text": [
            "  Tid Refund Marital Status Taxable Income Cheat\n",
            "0   1    Yes         Single           125k    No\n",
            "1   2     No        Marreid           100k    No\n",
            "2   3     No         Single            70k    No\n",
            "3   4    Yes        Marreid           120k    No\n",
            "4   5     No       Devorced            95k   Yes\n",
            "5   6     No        Marreid            60k    No\n",
            "6   7    Yes       Divorced           220k    No\n",
            "7   8     No         Single            85k   Yes\n",
            "8   9     No        Marreid            75k    No\n",
            "9  10     No         Single            90k   Yes\n"
          ]
        }
      ],
      "source": [
        "import pandas as pd\n",
        "dataset={\n",
        "    \"Tid\":[\"1\",\"2\",\"3\",\"4\",\"5\",\"6\",\"7\",\"8\",\"9\",\"10\"],\n",
        "    \"Refund\":[\"Yes\",\"No\",\"No\",\"Yes\",\"No\",\"No\",\"Yes\",\"No\",\"No\",\"No\"],\n",
        "    \"Marital Status\":[\"Single\",\"Marreid\",\"Single\",\"Marreid\",\"Devorced\",\"Marreid\",\"Divorced\",\"Single\",\"Marreid\",\"Single\"],\n",
        "    \"Taxable Income\":[\"125k\",\"100k\",\"70k\",\"120k\",\"95k\",\"60k\",\"220k\",\"85k\",\"75k\",\"90k\"],\n",
        "    \"Cheat\":[\"No\",\"No\",\"No\",\"No\",\"Yes\",\"No\",\"No\",\"Yes\",\"No\",\"Yes\"]\n",
        "\n",
        "}\n",
        "var = pd.DataFrame(dataset)\n",
        "print(var)"
      ]
    },
    {
      "cell_type": "code",
      "source": [
        "import pandas as pd\n",
        "dataset={\n",
        "    \"Tid\":[\"1\",\"2\",\"3\",\"4\",\"5\",\"6\",\"7\",\"8\",\"9\",\"10\"],\n",
        "    \"Refund\":[\"Yes\",\"No\",\"No\",\"Yes\",\"No\",\"No\",\"Yes\",\"No\",\"No\",\"No\"],\n",
        "    \"Marital Status\":[\"Single\",\"Marreid\",\"Single\",\"Marreid\",\"Devorced\",\"Marreid\",\"Divorced\",\"Single\",\"Marreid\",\"Single\"],\n",
        "    \"Taxable Income\":[\"125k\",\"100k\",\"70k\",\"120k\",\"95k\",\"60k\",\"220k\",\"85k\",\"75k\",\"90k\"],\n",
        "    \"Cheat\":[\"No\",\"No\",\"No\",\"No\",\"Yes\",\"No\",\"No\",\"Yes\",\"No\",\"Yes\"]\n",
        "\n",
        "}\n",
        "\n",
        "# Assuming your DataFrame is named df\n",
        "# You can create it with your data or load it from a file\n",
        "\n",
        "# Locate rows 0, 4, 7, and 8\n",
        "selected_rows = dataset.loc[[0, 4, 7, 8]]\n",
        "\n",
        "# Print the selected rows\n",
        "print(selected_rows)\n"
      ],
      "metadata": {
        "colab": {
          "base_uri": "https://localhost:8080/",
          "height": 245
        },
        "id": "xuBTJxGjDtxn",
        "outputId": "3eddb5db-2482-41fe-fb93-e7cc0e3c12f7"
      },
      "execution_count": 4,
      "outputs": [
        {
          "output_type": "error",
          "ename": "AttributeError",
          "evalue": "'dict' object has no attribute 'loc'",
          "traceback": [
            "\u001b[0;31m---------------------------------------------------------------------------\u001b[0m",
            "\u001b[0;31mAttributeError\u001b[0m                            Traceback (most recent call last)",
            "\u001b[0;32m<ipython-input-4-95aed07d1b5b>\u001b[0m in \u001b[0;36m<cell line: 15>\u001b[0;34m()\u001b[0m\n\u001b[1;32m     13\u001b[0m \u001b[0;34m\u001b[0m\u001b[0m\n\u001b[1;32m     14\u001b[0m \u001b[0;31m# Locate rows 0, 4, 7, and 8\u001b[0m\u001b[0;34m\u001b[0m\u001b[0;34m\u001b[0m\u001b[0m\n\u001b[0;32m---> 15\u001b[0;31m \u001b[0mselected_rows\u001b[0m \u001b[0;34m=\u001b[0m \u001b[0mdataset\u001b[0m\u001b[0;34m.\u001b[0m\u001b[0mloc\u001b[0m\u001b[0;34m[\u001b[0m\u001b[0;34m[\u001b[0m\u001b[0;36m0\u001b[0m\u001b[0;34m,\u001b[0m \u001b[0;36m4\u001b[0m\u001b[0;34m,\u001b[0m \u001b[0;36m7\u001b[0m\u001b[0;34m,\u001b[0m \u001b[0;36m8\u001b[0m\u001b[0;34m]\u001b[0m\u001b[0;34m]\u001b[0m\u001b[0;34m\u001b[0m\u001b[0;34m\u001b[0m\u001b[0m\n\u001b[0m\u001b[1;32m     16\u001b[0m \u001b[0;34m\u001b[0m\u001b[0m\n\u001b[1;32m     17\u001b[0m \u001b[0;31m# Print the selected rows\u001b[0m\u001b[0;34m\u001b[0m\u001b[0;34m\u001b[0m\u001b[0m\n",
            "\u001b[0;31mAttributeError\u001b[0m: 'dict' object has no attribute 'loc'"
          ]
        }
      ]
    },
    {
      "cell_type": "code",
      "source": [],
      "metadata": {
        "id": "wlUja7r3DuzH"
      },
      "execution_count": null,
      "outputs": []
    }
  ]
}